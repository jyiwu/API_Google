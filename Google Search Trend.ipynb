{
 "cells": [
  {
   "cell_type": "markdown",
   "id": "948f6266",
   "metadata": {
    "heading_collapsed": true
   },
   "source": [
    "### Install"
   ]
  },
  {
   "cell_type": "code",
   "execution_count": 9,
   "id": "7e9243d4",
   "metadata": {
    "hidden": true,
    "scrolled": true
   },
   "outputs": [
    {
     "name": "stdout",
     "output_type": "stream",
     "text": [
      "Collecting git+https://github.com/GeneralMills/pytrends\n",
      "  Cloning https://github.com/GeneralMills/pytrends to /private/var/folders/fz/6zhffn0d72s0mwxj9rgr2c700000gn/T/pip-req-build-74gajk66\n",
      "  Running command git clone -q https://github.com/GeneralMills/pytrends /private/var/folders/fz/6zhffn0d72s0mwxj9rgr2c700000gn/T/pip-req-build-74gajk66\n",
      "  xcrun: error: invalid active developer path (/Library/Developer/CommandLineTools), missing xcrun at: /Library/Developer/CommandLineTools/usr/bin/xcrun\n",
      "\u001b[33mWARNING: Discarding git+https://github.com/GeneralMills/pytrends. Command errored out with exit status 1: git clone -q https://github.com/GeneralMills/pytrends /private/var/folders/fz/6zhffn0d72s0mwxj9rgr2c700000gn/T/pip-req-build-74gajk66 Check the logs for full command output.\u001b[0m\n",
      "\u001b[31mERROR: Command errored out with exit status 1: git clone -q https://github.com/GeneralMills/pytrends /private/var/folders/fz/6zhffn0d72s0mwxj9rgr2c700000gn/T/pip-req-build-74gajk66 Check the logs for full command output.\u001b[0m\n",
      "\u001b[33mWARNING: You are using pip version 21.2.3; however, version 23.1 is available.\n",
      "You should consider upgrading via the '/Library/Frameworks/Python.framework/Versions/3.9/bin/python3.9 -m pip install --upgrade pip' command.\u001b[0m\n",
      "Note: you may need to restart the kernel to use updated packages.\n"
     ]
    }
   ],
   "source": [
    "pip install --upgrade --user git+https://github.com/GeneralMills/pytrends"
   ]
  },
  {
   "cell_type": "markdown",
   "id": "b1e38440",
   "metadata": {
    "heading_collapsed": true
   },
   "source": [
    "### Packages"
   ]
  },
  {
   "cell_type": "code",
   "execution_count": 37,
   "id": "5e71950c",
   "metadata": {
    "hidden": true
   },
   "outputs": [],
   "source": [
    "from pytrends.request import TrendReq\n",
    "import pandas as pd\n",
    "import time"
   ]
  },
  {
   "cell_type": "markdown",
   "id": "d5b8500f",
   "metadata": {},
   "source": [
    "### Interest Over Time By Region"
   ]
  },
  {
   "cell_type": "markdown",
   "id": "713451a3",
   "metadata": {},
   "source": [
    "#### Suggestion Keyword"
   ]
  },
  {
   "cell_type": "code",
   "execution_count": 32,
   "id": "d0d8e512",
   "metadata": {
    "scrolled": false
   },
   "outputs": [
    {
     "data": {
      "text/html": [
       "<div>\n",
       "<style scoped>\n",
       "    .dataframe tbody tr th:only-of-type {\n",
       "        vertical-align: middle;\n",
       "    }\n",
       "\n",
       "    .dataframe tbody tr th {\n",
       "        vertical-align: top;\n",
       "    }\n",
       "\n",
       "    .dataframe thead th {\n",
       "        text-align: right;\n",
       "    }\n",
       "</style>\n",
       "<table border=\"1\" class=\"dataframe\">\n",
       "  <thead>\n",
       "    <tr style=\"text-align: right;\">\n",
       "      <th></th>\n",
       "      <th>mid</th>\n",
       "      <th>title</th>\n",
       "      <th>type</th>\n",
       "    </tr>\n",
       "  </thead>\n",
       "  <tbody>\n",
       "    <tr>\n",
       "      <th>0</th>\n",
       "      <td>/m/03h90x</td>\n",
       "      <td>Louis Vuitton</td>\n",
       "      <td>Fashion company</td>\n",
       "    </tr>\n",
       "    <tr>\n",
       "      <th>1</th>\n",
       "      <td>/m/02l840</td>\n",
       "      <td>Kanye West</td>\n",
       "      <td>American rapper</td>\n",
       "    </tr>\n",
       "    <tr>\n",
       "      <th>2</th>\n",
       "      <td>/m/03p3mc_</td>\n",
       "      <td>LVMH</td>\n",
       "      <td>Luxury goods company</td>\n",
       "    </tr>\n",
       "    <tr>\n",
       "      <th>3</th>\n",
       "      <td>/m/0rytz6f</td>\n",
       "      <td>Louis Vuitton Foundation</td>\n",
       "      <td>Art museum in Paris, France</td>\n",
       "    </tr>\n",
       "    <tr>\n",
       "      <th>4</th>\n",
       "      <td>/g/11gg_hc1hz</td>\n",
       "      <td>Louis Vuitton Neverfull</td>\n",
       "      <td>Handbag</td>\n",
       "    </tr>\n",
       "  </tbody>\n",
       "</table>\n",
       "</div>"
      ],
      "text/plain": [
       "             mid                     title                         type\n",
       "0      /m/03h90x             Louis Vuitton              Fashion company\n",
       "1      /m/02l840                Kanye West              American rapper\n",
       "2     /m/03p3mc_                      LVMH         Luxury goods company\n",
       "3     /m/0rytz6f  Louis Vuitton Foundation  Art museum in Paris, France\n",
       "4  /g/11gg_hc1hz   Louis Vuitton Neverfull                      Handbag"
      ]
     },
     "execution_count": 32,
     "metadata": {},
     "output_type": "execute_result"
    }
   ],
   "source": [
    "pytrend = TrendReq()\n",
    "\n",
    "suggestions = pytrend.suggestions(\"Louis Vuitton\")\n",
    "df_suggestion = pd.DataFrame(suggestions)\n",
    "df_suggestion.head(5)"
   ]
  },
  {
   "cell_type": "code",
   "execution_count": 38,
   "id": "232079b6",
   "metadata": {},
   "outputs": [],
   "source": [
    "kw_list=[\"Louis Vuitton\",\"LV\",\"Chanel\",\"Gucci\",\"Hermes\"]\n",
    "l = []\n",
    "for i in ['US','CA','BR','MX']:\n",
    "    pytrends=TrendReq()\n",
    "    pytrends.build_payload(kw_list,timeframe='today 5-y',geo=i)\n",
    "    df=pytrends.interest_over_time()\n",
    "    df['country']=i\n",
    "    l.append(df.reset_index())\n",
    "    time.sleep(10)\n",
    "df1 = pd.concat(l)"
   ]
  },
  {
   "cell_type": "code",
   "execution_count": 40,
   "id": "6fe90adc",
   "metadata": {},
   "outputs": [
    {
     "data": {
      "text/html": [
       "<div>\n",
       "<style scoped>\n",
       "    .dataframe tbody tr th:only-of-type {\n",
       "        vertical-align: middle;\n",
       "    }\n",
       "\n",
       "    .dataframe tbody tr th {\n",
       "        vertical-align: top;\n",
       "    }\n",
       "\n",
       "    .dataframe thead th {\n",
       "        text-align: right;\n",
       "    }\n",
       "</style>\n",
       "<table border=\"1\" class=\"dataframe\">\n",
       "  <thead>\n",
       "    <tr style=\"text-align: right;\">\n",
       "      <th></th>\n",
       "      <th>date</th>\n",
       "      <th>Louis Vuitton</th>\n",
       "      <th>LV</th>\n",
       "      <th>Chanel</th>\n",
       "      <th>Gucci</th>\n",
       "      <th>Hermes</th>\n",
       "      <th>isPartial</th>\n",
       "      <th>country</th>\n",
       "    </tr>\n",
       "  </thead>\n",
       "  <tbody>\n",
       "    <tr>\n",
       "      <th>0</th>\n",
       "      <td>2018-04-22</td>\n",
       "      <td>18</td>\n",
       "      <td>6</td>\n",
       "      <td>16</td>\n",
       "      <td>40</td>\n",
       "      <td>0</td>\n",
       "      <td>False</td>\n",
       "      <td>US</td>\n",
       "    </tr>\n",
       "    <tr>\n",
       "      <th>1</th>\n",
       "      <td>2018-04-29</td>\n",
       "      <td>19</td>\n",
       "      <td>6</td>\n",
       "      <td>16</td>\n",
       "      <td>40</td>\n",
       "      <td>0</td>\n",
       "      <td>False</td>\n",
       "      <td>US</td>\n",
       "    </tr>\n",
       "    <tr>\n",
       "      <th>2</th>\n",
       "      <td>2018-05-06</td>\n",
       "      <td>20</td>\n",
       "      <td>6</td>\n",
       "      <td>15</td>\n",
       "      <td>44</td>\n",
       "      <td>0</td>\n",
       "      <td>False</td>\n",
       "      <td>US</td>\n",
       "    </tr>\n",
       "    <tr>\n",
       "      <th>3</th>\n",
       "      <td>2018-05-13</td>\n",
       "      <td>19</td>\n",
       "      <td>6</td>\n",
       "      <td>15</td>\n",
       "      <td>42</td>\n",
       "      <td>0</td>\n",
       "      <td>False</td>\n",
       "      <td>US</td>\n",
       "    </tr>\n",
       "    <tr>\n",
       "      <th>4</th>\n",
       "      <td>2018-05-20</td>\n",
       "      <td>17</td>\n",
       "      <td>6</td>\n",
       "      <td>13</td>\n",
       "      <td>40</td>\n",
       "      <td>0</td>\n",
       "      <td>False</td>\n",
       "      <td>US</td>\n",
       "    </tr>\n",
       "    <tr>\n",
       "      <th>...</th>\n",
       "      <td>...</td>\n",
       "      <td>...</td>\n",
       "      <td>...</td>\n",
       "      <td>...</td>\n",
       "      <td>...</td>\n",
       "      <td>...</td>\n",
       "      <td>...</td>\n",
       "      <td>...</td>\n",
       "    </tr>\n",
       "    <tr>\n",
       "      <th>256</th>\n",
       "      <td>2023-03-19</td>\n",
       "      <td>39</td>\n",
       "      <td>12</td>\n",
       "      <td>40</td>\n",
       "      <td>0</td>\n",
       "      <td>14</td>\n",
       "      <td>False</td>\n",
       "      <td>MX</td>\n",
       "    </tr>\n",
       "    <tr>\n",
       "      <th>257</th>\n",
       "      <td>2023-03-26</td>\n",
       "      <td>34</td>\n",
       "      <td>13</td>\n",
       "      <td>0</td>\n",
       "      <td>0</td>\n",
       "      <td>18</td>\n",
       "      <td>False</td>\n",
       "      <td>MX</td>\n",
       "    </tr>\n",
       "    <tr>\n",
       "      <th>258</th>\n",
       "      <td>2023-04-02</td>\n",
       "      <td>35</td>\n",
       "      <td>11</td>\n",
       "      <td>44</td>\n",
       "      <td>0</td>\n",
       "      <td>17</td>\n",
       "      <td>False</td>\n",
       "      <td>MX</td>\n",
       "    </tr>\n",
       "    <tr>\n",
       "      <th>259</th>\n",
       "      <td>2023-04-09</td>\n",
       "      <td>35</td>\n",
       "      <td>12</td>\n",
       "      <td>44</td>\n",
       "      <td>0</td>\n",
       "      <td>17</td>\n",
       "      <td>False</td>\n",
       "      <td>MX</td>\n",
       "    </tr>\n",
       "    <tr>\n",
       "      <th>260</th>\n",
       "      <td>2023-04-16</td>\n",
       "      <td>37</td>\n",
       "      <td>9</td>\n",
       "      <td>48</td>\n",
       "      <td>0</td>\n",
       "      <td>15</td>\n",
       "      <td>True</td>\n",
       "      <td>MX</td>\n",
       "    </tr>\n",
       "  </tbody>\n",
       "</table>\n",
       "<p>1044 rows × 8 columns</p>\n",
       "</div>"
      ],
      "text/plain": [
       "          date  Louis Vuitton  LV  Chanel  Gucci  Hermes  isPartial country\n",
       "0   2018-04-22             18   6      16     40       0      False      US\n",
       "1   2018-04-29             19   6      16     40       0      False      US\n",
       "2   2018-05-06             20   6      15     44       0      False      US\n",
       "3   2018-05-13             19   6      15     42       0      False      US\n",
       "4   2018-05-20             17   6      13     40       0      False      US\n",
       "..         ...            ...  ..     ...    ...     ...        ...     ...\n",
       "256 2023-03-19             39  12      40      0      14      False      MX\n",
       "257 2023-03-26             34  13       0      0      18      False      MX\n",
       "258 2023-04-02             35  11      44      0      17      False      MX\n",
       "259 2023-04-09             35  12      44      0      17      False      MX\n",
       "260 2023-04-16             37   9      48      0      15       True      MX\n",
       "\n",
       "[1044 rows x 8 columns]"
      ]
     },
     "execution_count": 40,
     "metadata": {},
     "output_type": "execute_result"
    }
   ],
   "source": [
    "df1"
   ]
  },
  {
   "cell_type": "markdown",
   "id": "8e2375c4",
   "metadata": {
    "heading_collapsed": true
   },
   "source": [
    "### Reference"
   ]
  },
  {
   "cell_type": "code",
   "execution_count": null,
   "id": "610511e1",
   "metadata": {
    "hidden": true
   },
   "outputs": [],
   "source": [
    "from pytrends.request import TrendReq\n",
    "\n",
    "# Only need to run this once, the rest of requests will use the same session.\n",
    "pytrend = TrendReq()\n",
    "\n",
    "# Create payload and capture API tokens. Only needed for interest_over_time(), interest_by_region() & related_queries()\n",
    "pytrend.build_payload(kw_list=['pizza', 'bagel'])\n",
    "\n",
    "# Interest Over Time\n",
    "interest_over_time_df = pytrend.interest_over_time()\n",
    "print(interest_over_time_df.head())\n",
    "\n",
    "# Interest by Region\n",
    "interest_by_region_df = pytrend.interest_by_region()\n",
    "print(interest_by_region_df.head())\n",
    "\n",
    "# Related Queries, returns a dictionary of dataframes\n",
    "related_queries_dict = pytrend.related_queries()\n",
    "print(related_queries_dict)\n",
    "\n",
    "# Get Google Hot Trends data\n",
    "trending_searches_df = pytrend.trending_searches()\n",
    "print(trending_searches_df.head())\n",
    "\n",
    "# Get Google Hot Trends data\n",
    "today_searches_df = pytrend.today_searches()\n",
    "print(today_searches_df.head())\n",
    "\n",
    "# Get Google Top Charts\n",
    "top_charts_df = pytrend.top_charts(2018, hl='en-US', tz=300, geo='GLOBAL')\n",
    "print(top_charts_df.head())\n",
    "\n",
    "# Get Google Keyword Suggestions\n",
    "suggestions_dict = pytrend.suggestions(keyword='pizza')\n",
    "print(suggestions_dict)\n",
    "\n",
    "# Get Google Realtime Search Trends\n",
    "realtime_searches = pytrend.realtime_trending_searches(pn='IN')\n",
    "print(realtime_searches.head())\n",
    "\n",
    "# Recreate payload with multiple timeframes\n",
    "pytrend.build_payload(kw_list=['pizza', 'bagel'], timeframe=['2022-09-04 2022-09-10', '2022-09-18 2022-09-24'])\n",
    "\n",
    "# Multirange Interest Over Time\n",
    "multirange_interest_over_time_df = pytrend.multirange_interest_over_time()\n",
    "print(multirange_interest_over_time_df.head())"
   ]
  }
 ],
 "metadata": {
  "kernelspec": {
   "display_name": "Python 3 (ipykernel)",
   "language": "python",
   "name": "python3"
  },
  "language_info": {
   "codemirror_mode": {
    "name": "ipython",
    "version": 3
   },
   "file_extension": ".py",
   "mimetype": "text/x-python",
   "name": "python",
   "nbconvert_exporter": "python",
   "pygments_lexer": "ipython3",
   "version": "3.9.7"
  },
  "toc": {
   "base_numbering": 1,
   "nav_menu": {},
   "number_sections": true,
   "sideBar": true,
   "skip_h1_title": false,
   "title_cell": "Table of Contents",
   "title_sidebar": "Contents",
   "toc_cell": false,
   "toc_position": {},
   "toc_section_display": true,
   "toc_window_display": false
  }
 },
 "nbformat": 4,
 "nbformat_minor": 5
}
