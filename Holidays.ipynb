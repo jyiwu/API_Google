{
 "cells": [
  {
   "cell_type": "markdown",
   "id": "1d917310",
   "metadata": {
    "heading_collapsed": true
   },
   "source": [
    "### Install"
   ]
  },
  {
   "cell_type": "code",
   "execution_count": 2,
   "id": "e7a1c824",
   "metadata": {
    "hidden": true,
    "scrolled": false
   },
   "outputs": [
    {
     "name": "stdout",
     "output_type": "stream",
     "text": [
      "Collecting holidays\n",
      "  Downloading holidays-0.23-py3-none-any.whl (485 kB)\n",
      "\u001b[K     |████████████████████████████████| 485 kB 10.0 MB/s eta 0:00:01\n",
      "\u001b[?25hCollecting convertdate>=2.3.0\n",
      "  Downloading convertdate-2.4.0-py3-none-any.whl (47 kB)\n",
      "\u001b[K     |████████████████████████████████| 47 kB 13.2 MB/s eta 0:00:01\n",
      "\u001b[?25hCollecting korean-lunar-calendar\n",
      "  Downloading korean_lunar_calendar-0.3.1-py3-none-any.whl (9.0 kB)\n",
      "Requirement already satisfied: python-dateutil in /Library/Frameworks/Python.framework/Versions/3.9/lib/python3.9/site-packages (from holidays) (2.8.2)\n",
      "Collecting hijri-converter\n",
      "  Downloading hijri_converter-2.2.4-py3-none-any.whl (14 kB)\n",
      "Collecting pymeeus<=1,>=0.3.13\n",
      "  Downloading PyMeeus-0.5.12.tar.gz (5.8 MB)\n",
      "\u001b[K     |████████████████████████████████| 5.8 MB 28.0 MB/s eta 0:00:01\n",
      "\u001b[?25hRequirement already satisfied: six>=1.5 in /Library/Frameworks/Python.framework/Versions/3.9/lib/python3.9/site-packages (from python-dateutil->holidays) (1.16.0)\n",
      "Building wheels for collected packages: pymeeus\n",
      "  Building wheel for pymeeus (setup.py) ... \u001b[?25ldone\n",
      "\u001b[?25h  Created wheel for pymeeus: filename=PyMeeus-0.5.12-py3-none-any.whl size=732017 sha256=610dfbe0b66317b1da65c4dd9909cad5387a7c16fd0932b4c67606cb48ff3164\n",
      "  Stored in directory: /Users/jyiwu/Library/Caches/pip/wheels/04/1f/e5/8dd0c661cd8d252817655dc14a84f7ae045d6616594145aa81\n",
      "Successfully built pymeeus\n",
      "Installing collected packages: pymeeus, korean-lunar-calendar, hijri-converter, convertdate, holidays\n",
      "Successfully installed convertdate-2.4.0 hijri-converter-2.2.4 holidays-0.23 korean-lunar-calendar-0.3.1 pymeeus-0.5.12\n",
      "\u001b[33mWARNING: You are using pip version 21.2.3; however, version 23.1 is available.\n",
      "You should consider upgrading via the '/Library/Frameworks/Python.framework/Versions/3.9/bin/python3.9 -m pip install --upgrade pip' command.\u001b[0m\n",
      "Note: you may need to restart the kernel to use updated packages.\n"
     ]
    }
   ],
   "source": [
    "pip install --upgrade holidays"
   ]
  },
  {
   "cell_type": "code",
   "execution_count": 7,
   "id": "e2cd3216",
   "metadata": {
    "hidden": true
   },
   "outputs": [],
   "source": [
    "from datetime import date\n",
    "import holidays\n",
    "import pandas as pd"
   ]
  },
  {
   "cell_type": "markdown",
   "id": "aab2c74c",
   "metadata": {
    "heading_collapsed": true
   },
   "source": [
    "### Reference "
   ]
  },
  {
   "cell_type": "code",
   "execution_count": 4,
   "id": "7b8a2c82",
   "metadata": {
    "hidden": true
   },
   "outputs": [],
   "source": [
    "from datetime import date\n",
    "import holidays\n",
    "\n",
    "us_holidays = holidays.US()  # this is a dict\n",
    "# the below is the same, but takes a string:\n",
    "us_holidays = holidays.country_holidays('US')  # this is a dict\n",
    "\n",
    "nyse_holidays = holidays.NYSE()  # this is a dict\n",
    "# the below is the same, but takes a string:\n",
    "nyse_holidays = holidays.financial_holidays('NYSE')  # this is a dict"
   ]
  },
  {
   "cell_type": "markdown",
   "id": "4ed21b5e",
   "metadata": {},
   "source": [
    "### Get Holidays for 4 countries"
   ]
  },
  {
   "cell_type": "code",
   "execution_count": 58,
   "id": "dcfe6e31",
   "metadata": {
    "scrolled": false
   },
   "outputs": [],
   "source": [
    "us_holidays = holidays.US(years=[2018, 2023])\n",
    "ca_holidays = holidays.CA(years=[2018, 2023])\n",
    "br_holidays = holidays.BR(years=[2018, 2023])\n",
    "mx_holidays = holidays.MX(years=[2018, 2023])\n",
    "\n",
    "country_holiday = [us_holidays, ca_holidays, br_holidays, mx_holidays]\n",
    "country_list = [\"US\",\"CA\",\"BR\",\"MX\"]\n",
    "range_of_dates = pd.date_range(\"2018-01-01\", \"2023-12-31\")\n",
    "l = []\n",
    "\n",
    "for i in range(0,len(country_holiday)):\n",
    "    df = pd.DataFrame(\n",
    "        index=range_of_dates, \n",
    "        data={\"is_holiday\": [date in country_holiday[i] for date in range_of_dates],\n",
    "              \"country\": country_list[i]})\n",
    "    l.append(df.reset_index())\n",
    "    \n",
    "df1 = pd.concat(l)\n",
    "df1['is_holiday'] = df1['is_holiday'].astype(int) "
   ]
  },
  {
   "cell_type": "code",
   "execution_count": 59,
   "id": "12e5c38d",
   "metadata": {},
   "outputs": [
    {
     "data": {
      "text/html": [
       "<div>\n",
       "<style scoped>\n",
       "    .dataframe tbody tr th:only-of-type {\n",
       "        vertical-align: middle;\n",
       "    }\n",
       "\n",
       "    .dataframe tbody tr th {\n",
       "        vertical-align: top;\n",
       "    }\n",
       "\n",
       "    .dataframe thead th {\n",
       "        text-align: right;\n",
       "    }\n",
       "</style>\n",
       "<table border=\"1\" class=\"dataframe\">\n",
       "  <thead>\n",
       "    <tr style=\"text-align: right;\">\n",
       "      <th></th>\n",
       "      <th>index</th>\n",
       "      <th>is_holiday</th>\n",
       "      <th>country</th>\n",
       "    </tr>\n",
       "  </thead>\n",
       "  <tbody>\n",
       "    <tr>\n",
       "      <th>0</th>\n",
       "      <td>2018-01-01</td>\n",
       "      <td>1</td>\n",
       "      <td>US</td>\n",
       "    </tr>\n",
       "    <tr>\n",
       "      <th>1</th>\n",
       "      <td>2018-01-02</td>\n",
       "      <td>0</td>\n",
       "      <td>US</td>\n",
       "    </tr>\n",
       "    <tr>\n",
       "      <th>2</th>\n",
       "      <td>2018-01-03</td>\n",
       "      <td>0</td>\n",
       "      <td>US</td>\n",
       "    </tr>\n",
       "    <tr>\n",
       "      <th>3</th>\n",
       "      <td>2018-01-04</td>\n",
       "      <td>0</td>\n",
       "      <td>US</td>\n",
       "    </tr>\n",
       "    <tr>\n",
       "      <th>4</th>\n",
       "      <td>2018-01-05</td>\n",
       "      <td>0</td>\n",
       "      <td>US</td>\n",
       "    </tr>\n",
       "    <tr>\n",
       "      <th>...</th>\n",
       "      <td>...</td>\n",
       "      <td>...</td>\n",
       "      <td>...</td>\n",
       "    </tr>\n",
       "    <tr>\n",
       "      <th>2186</th>\n",
       "      <td>2023-12-27</td>\n",
       "      <td>0</td>\n",
       "      <td>MX</td>\n",
       "    </tr>\n",
       "    <tr>\n",
       "      <th>2187</th>\n",
       "      <td>2023-12-28</td>\n",
       "      <td>0</td>\n",
       "      <td>MX</td>\n",
       "    </tr>\n",
       "    <tr>\n",
       "      <th>2188</th>\n",
       "      <td>2023-12-29</td>\n",
       "      <td>0</td>\n",
       "      <td>MX</td>\n",
       "    </tr>\n",
       "    <tr>\n",
       "      <th>2189</th>\n",
       "      <td>2023-12-30</td>\n",
       "      <td>0</td>\n",
       "      <td>MX</td>\n",
       "    </tr>\n",
       "    <tr>\n",
       "      <th>2190</th>\n",
       "      <td>2023-12-31</td>\n",
       "      <td>0</td>\n",
       "      <td>MX</td>\n",
       "    </tr>\n",
       "  </tbody>\n",
       "</table>\n",
       "<p>8764 rows × 3 columns</p>\n",
       "</div>"
      ],
      "text/plain": [
       "          index  is_holiday country\n",
       "0    2018-01-01           1      US\n",
       "1    2018-01-02           0      US\n",
       "2    2018-01-03           0      US\n",
       "3    2018-01-04           0      US\n",
       "4    2018-01-05           0      US\n",
       "...         ...         ...     ...\n",
       "2186 2023-12-27           0      MX\n",
       "2187 2023-12-28           0      MX\n",
       "2188 2023-12-29           0      MX\n",
       "2189 2023-12-30           0      MX\n",
       "2190 2023-12-31           0      MX\n",
       "\n",
       "[8764 rows x 3 columns]"
      ]
     },
     "execution_count": 59,
     "metadata": {},
     "output_type": "execute_result"
    }
   ],
   "source": [
    "df1"
   ]
  }
 ],
 "metadata": {
  "kernelspec": {
   "display_name": "Python 3 (ipykernel)",
   "language": "python",
   "name": "python3"
  },
  "language_info": {
   "codemirror_mode": {
    "name": "ipython",
    "version": 3
   },
   "file_extension": ".py",
   "mimetype": "text/x-python",
   "name": "python",
   "nbconvert_exporter": "python",
   "pygments_lexer": "ipython3",
   "version": "3.9.7"
  },
  "toc": {
   "base_numbering": 1,
   "nav_menu": {},
   "number_sections": true,
   "sideBar": true,
   "skip_h1_title": false,
   "title_cell": "Table of Contents",
   "title_sidebar": "Contents",
   "toc_cell": false,
   "toc_position": {},
   "toc_section_display": true,
   "toc_window_display": false
  }
 },
 "nbformat": 4,
 "nbformat_minor": 5
}
